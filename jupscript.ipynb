{
 "cells": [
  {
   "cell_type": "code",
   "execution_count": 22,
   "id": "3ede0492",
   "metadata": {},
   "outputs": [],
   "source": [
    "# This the shape generator file for Excel spreadsheets\n",
    "# Test Runs: Create 20 spreadsheets in long format (4 columns (Date, Channel, Metric, Value), 8 rows)\n",
    "# Noise transformations: random values for int, set value of strings for now (Daily granularity for date, 2 choices for Channel and Metric)\n"
   ]
  },
  {
   "cell_type": "code",
   "execution_count": 23,
   "id": "71d52564",
   "metadata": {},
   "outputs": [],
   "source": [
    "\n",
    "import pandas as pd\n",
    "import numpy as np\n",
    "from itertools import product\n",
    "import random\n",
    "import os\n",
    "\n",
    "long_folder = 'long_first'\n",
    "multi_index_folder = 'multi_index'\n",
    "multi_table_folder = 'multi_table'\n",
    "relational_folder = 'relational'\n",
    "wide_folder = 'wide'\n"
   ]
  },
  {
   "cell_type": "markdown",
   "id": "4fd7abdd",
   "metadata": {},
   "source": [
    "Long format function"
   ]
  },
  {
   "cell_type": "code",
   "execution_count": 24,
   "id": "a9e64638",
   "metadata": {},
   "outputs": [],
   "source": [
    "def generate_long_df(\n",
    "    num_rows=16,\n",
    "    add_empty_cells=True,\n",
    "    empty_frac=0.1,\n",
    "    change_types=True,\n",
    "    wrong_type_cols=['Value']\n",
    "):\n",
    "    # Generate date range\n",
    "    base_date = pd.to_datetime('2025-07-10') + pd.Timedelta(days=np.random.randint(0, 365))\n",
    "    dates = pd.date_range(base_date, periods=num_rows//4, freq='7D')\n",
    "\n",
    "    # Generate combinations\n",
    "    channels = ['TV', 'Radio']\n",
    "    metrics = ['Spend', 'GRPs']\n",
    "    all_combinations = list(product(dates, channels, metrics))\n",
    "    df = pd.DataFrame(all_combinations, columns=['Date', 'Channel', 'Metric'])\n",
    "\n",
    "    # Assign values\n",
    "    def random_value(metric):\n",
    "        if metric == 'Spend':\n",
    "            return np.random.randint(50, 201)\n",
    "        return np.random.randint(1, 11)\n",
    "\n",
    "    df['Value'] = df['Metric'].apply(random_value)\n",
    "\n",
    "    # Pad or trim to desired num_rows\n",
    "    if len(df) < num_rows:\n",
    "        df = pd.concat([df] * (num_rows // len(df) + 1), ignore_index=True)\n",
    "    df = df.sample(n=num_rows, random_state=42).reset_index(drop=True)\n",
    "\n",
    "    # Introduce empty cells\n",
    "    if add_empty_cells:\n",
    "        total_cells = df.size\n",
    "        num_empty = int(total_cells * empty_frac)\n",
    "        for _ in range(num_empty):\n",
    "            row = np.random.randint(0, df.shape[0])\n",
    "            col = np.random.choice(df.columns)\n",
    "            df.at[row, col] = np.nan\n",
    "\n",
    "    # Introduce wrong data types\n",
    "    if change_types:\n",
    "        for col in wrong_type_cols:\n",
    "            for row in np.random.choice(df.index, size=max(1, len(df)//8), replace=False):\n",
    "                if col == 'Value':\n",
    "                    df.at[row, col] = random.choice(['one hundred', 'ten', 'NaN'])\n",
    "                elif col == 'Date':\n",
    "                    df.at[row, col] = random.choice(['not a date', 'yesterday', 'soon'])\n",
    "\n",
    "    return df"
   ]
  },
  {
   "cell_type": "markdown",
   "id": "a8d6f0a3",
   "metadata": {},
   "source": [
    "Long Output"
   ]
  },
  {
   "cell_type": "code",
   "execution_count": 25,
   "id": "49dbd26f",
   "metadata": {},
   "outputs": [
    {
     "name": "stderr",
     "output_type": "stream",
     "text": [
      "C:\\Users\\QuentinGEOFFROY\\AppData\\Local\\Temp\\ipykernel_18732\\3559396912.py:47: FutureWarning: Setting an item of incompatible dtype is deprecated and will raise an error in a future version of pandas. Value 'not a date' has dtype incompatible with datetime64[ns], please explicitly cast to a compatible dtype first.\n",
      "  df.at[row, col] = random.choice(['not a date', 'yesterday', 'soon'])\n",
      "C:\\Users\\QuentinGEOFFROY\\AppData\\Local\\Temp\\ipykernel_18732\\3559396912.py:45: FutureWarning: Setting an item of incompatible dtype is deprecated and will raise an error in a future version of pandas. Value 'ten' has dtype incompatible with int64, please explicitly cast to a compatible dtype first.\n",
      "  df.at[row, col] = random.choice(['one hundred', 'ten', 'NaN'])\n",
      "C:\\Users\\QuentinGEOFFROY\\AppData\\Local\\Temp\\ipykernel_18732\\3559396912.py:45: FutureWarning: Setting an item of incompatible dtype is deprecated and will raise an error in a future version of pandas. Value 'ten' has dtype incompatible with float64, please explicitly cast to a compatible dtype first.\n",
      "  df.at[row, col] = random.choice(['one hundred', 'ten', 'NaN'])\n",
      "C:\\Users\\QuentinGEOFFROY\\AppData\\Local\\Temp\\ipykernel_18732\\3559396912.py:47: FutureWarning: Setting an item of incompatible dtype is deprecated and will raise an error in a future version of pandas. Value 'soon' has dtype incompatible with datetime64[ns], please explicitly cast to a compatible dtype first.\n",
      "  df.at[row, col] = random.choice(['not a date', 'yesterday', 'soon'])\n",
      "C:\\Users\\QuentinGEOFFROY\\AppData\\Local\\Temp\\ipykernel_18732\\3559396912.py:47: FutureWarning: Setting an item of incompatible dtype is deprecated and will raise an error in a future version of pandas. Value 'not a date' has dtype incompatible with datetime64[ns], please explicitly cast to a compatible dtype first.\n",
      "  df.at[row, col] = random.choice(['not a date', 'yesterday', 'soon'])\n",
      "C:\\Users\\QuentinGEOFFROY\\AppData\\Local\\Temp\\ipykernel_18732\\3559396912.py:45: FutureWarning: Setting an item of incompatible dtype is deprecated and will raise an error in a future version of pandas. Value 'one hundred' has dtype incompatible with int64, please explicitly cast to a compatible dtype first.\n",
      "  df.at[row, col] = random.choice(['one hundred', 'ten', 'NaN'])\n"
     ]
    },
    {
     "name": "stdout",
     "output_type": "stream",
     "text": [
      "Saved: long_first\\synthetic_dataset_1.xlsx\n",
      "Saved: long_first\\synthetic_dataset_2.xlsx\n",
      "Saved: long_first\\synthetic_dataset_3.xlsx\n",
      "Saved: long_first\\synthetic_dataset_4.xlsx\n",
      "Saved: long_first\\synthetic_dataset_5.xlsx\n",
      "Saved: long_first\\synthetic_dataset_6.xlsx\n",
      "Saved: long_first\\synthetic_dataset_7.xlsx\n",
      "Saved: long_first\\synthetic_dataset_8.xlsx\n",
      "Saved: long_first\\synthetic_dataset_9.xlsx\n",
      "Saved: long_first\\synthetic_dataset_10.xlsx\n",
      "Saved: long_first\\synthetic_dataset_11.xlsx\n",
      "Saved: long_first\\synthetic_dataset_12.xlsx\n",
      "Saved: long_first\\synthetic_dataset_13.xlsx\n",
      "Saved: long_first\\synthetic_dataset_14.xlsx\n",
      "Saved: long_first\\synthetic_dataset_15.xlsx\n",
      "Saved: long_first\\synthetic_dataset_16.xlsx\n"
     ]
    },
    {
     "name": "stderr",
     "output_type": "stream",
     "text": [
      "C:\\Users\\QuentinGEOFFROY\\AppData\\Local\\Temp\\ipykernel_18732\\3559396912.py:45: FutureWarning: Setting an item of incompatible dtype is deprecated and will raise an error in a future version of pandas. Value 'NaN' has dtype incompatible with float64, please explicitly cast to a compatible dtype first.\n",
      "  df.at[row, col] = random.choice(['one hundred', 'ten', 'NaN'])\n",
      "C:\\Users\\QuentinGEOFFROY\\AppData\\Local\\Temp\\ipykernel_18732\\3559396912.py:47: FutureWarning: Setting an item of incompatible dtype is deprecated and will raise an error in a future version of pandas. Value 'yesterday' has dtype incompatible with datetime64[ns], please explicitly cast to a compatible dtype first.\n",
      "  df.at[row, col] = random.choice(['not a date', 'yesterday', 'soon'])\n",
      "C:\\Users\\QuentinGEOFFROY\\AppData\\Local\\Temp\\ipykernel_18732\\3559396912.py:47: FutureWarning: Setting an item of incompatible dtype is deprecated and will raise an error in a future version of pandas. Value 'soon' has dtype incompatible with datetime64[ns], please explicitly cast to a compatible dtype first.\n",
      "  df.at[row, col] = random.choice(['not a date', 'yesterday', 'soon'])\n",
      "C:\\Users\\QuentinGEOFFROY\\AppData\\Local\\Temp\\ipykernel_18732\\3559396912.py:45: FutureWarning: Setting an item of incompatible dtype is deprecated and will raise an error in a future version of pandas. Value 'NaN' has dtype incompatible with float64, please explicitly cast to a compatible dtype first.\n",
      "  df.at[row, col] = random.choice(['one hundred', 'ten', 'NaN'])\n",
      "C:\\Users\\QuentinGEOFFROY\\AppData\\Local\\Temp\\ipykernel_18732\\3559396912.py:47: FutureWarning: Setting an item of incompatible dtype is deprecated and will raise an error in a future version of pandas. Value 'not a date' has dtype incompatible with datetime64[ns], please explicitly cast to a compatible dtype first.\n",
      "  df.at[row, col] = random.choice(['not a date', 'yesterday', 'soon'])\n",
      "C:\\Users\\QuentinGEOFFROY\\AppData\\Local\\Temp\\ipykernel_18732\\3559396912.py:45: FutureWarning: Setting an item of incompatible dtype is deprecated and will raise an error in a future version of pandas. Value 'ten' has dtype incompatible with int64, please explicitly cast to a compatible dtype first.\n",
      "  df.at[row, col] = random.choice(['one hundred', 'ten', 'NaN'])\n"
     ]
    },
    {
     "name": "stdout",
     "output_type": "stream",
     "text": [
      "Saved: long_first\\synthetic_dataset_17.xlsx\n",
      "Saved: long_first\\synthetic_dataset_18.xlsx\n",
      "Saved: long_first\\synthetic_dataset_19.xlsx\n",
      "Saved: long_first\\synthetic_dataset_20.xlsx\n"
     ]
    }
   ],
   "source": [
    "os.makedirs(long_folder, exist_ok=True)\n",
    "\n",
    "NUM_SETS = 20\n",
    "\n",
    "for i in range(NUM_SETS):\n",
    "    params = {\n",
    "        'num_rows': random.randint(12, 50),\n",
    "        'add_empty_cells': random.choice([True, False]),\n",
    "        'empty_frac': round(random.uniform(0.05, 0.3), 2),\n",
    "        'change_types': random.choice([True, False]),\n",
    "        'wrong_type_cols': random.sample(['Value', 'Date'], \n",
    "                                         k=random.randint(0, 2))\n",
    "    }\n",
    "\n",
    "    df = generate_long_df(**params)\n",
    "    filepath = os.path.join(long_folder, f'synthetic_dataset_{i+1}.xlsx')\n",
    "    df.to_excel(filepath, index=False)\n",
    "\n",
    "    print(f\"Saved: {filepath}\")"
   ]
  },
  {
   "cell_type": "markdown",
   "id": "ff659c83",
   "metadata": {},
   "source": [
    "Wide Format function"
   ]
  },
  {
   "cell_type": "code",
   "execution_count": 26,
   "id": "9394228e",
   "metadata": {},
   "outputs": [],
   "source": [
    "def generate_df_wide_format(\n",
    "    num_rows=8,\n",
    "    add_empty_cells=True,\n",
    "    empty_frac=0.1,\n",
    "    change_types=True,\n",
    "    wrong_type_cols=['TV_Spend']\n",
    "):\n",
    "    num_dates = max(1, num_rows)\n",
    "    base_date = pd.to_datetime('2025-07-10') + pd.Timedelta(days=np.random.randint(0, 100))\n",
    "    dates = pd.date_range(base_date, periods=num_dates, freq='7D')\n",
    "\n",
    "    records = []\n",
    "    for date in dates:\n",
    "        record = {\n",
    "            'Date': date,\n",
    "            'TV_Spend': np.random.randint(50, 201),\n",
    "            'TV_GRPs': np.random.randint(1, 11),\n",
    "            'Radio_Spend': np.random.randint(50, 201),\n",
    "            'Radio_GRPs': np.random.randint(1, 11)\n",
    "        }\n",
    "        records.append(record)\n",
    "\n",
    "    df = pd.DataFrame(records)\n",
    "\n",
    "    # Introduce empty cells\n",
    "    if add_empty_cells:\n",
    "        total_cells = df.size\n",
    "        num_empty = int(total_cells * empty_frac)\n",
    "        for _ in range(num_empty):\n",
    "            row = np.random.randint(0, df.shape[0])\n",
    "            col = np.random.choice(df.columns)\n",
    "            df.at[row, col] = np.nan\n",
    "\n",
    "    # Wrong types\n",
    "    for col in wrong_type_cols:\n",
    "        if col in df.columns:\n",
    "            for row in np.random.choice(df.index, size=max(1, len(df)//8), replace=False):\n",
    "                if 'Spend' in col:\n",
    "                    df.at[row, col] = random.choice(['NaN', 'one hundred', 'low'])\n",
    "                elif 'GRPs' in col:\n",
    "                    df.at[row, col] = random.choice(['N/A', 'few', 'ten'])\n",
    "                elif col == 'Date':\n",
    "                    df.at[row, col] = random.choice(['soon', 'not a date'])\n",
    "\n",
    "    # Set 'Date' as index before transpose\n",
    "    df.set_index('Date', inplace=True)\n",
    "\n",
    "    # Transpose and reset index for labeling\n",
    "    df_transposed = df.transpose()\n",
    "    df_transposed.columns.name = 'Date'  # Rename column axis\n",
    "    df_transposed.index.name = 'Metric_Channel'  # Name row axis\n",
    "\n",
    "    return df_transposed\n",
    "\n"
   ]
  },
  {
   "cell_type": "markdown",
   "id": "1b9fa3c5",
   "metadata": {},
   "source": [
    "Wide Output"
   ]
  },
  {
   "cell_type": "code",
   "execution_count": 27,
   "id": "94e4ebc7",
   "metadata": {},
   "outputs": [
    {
     "name": "stdout",
     "output_type": "stream",
     "text": [
      "Saved: wide\\synthetic_dataset_1.xlsx\n",
      "Saved: wide\\synthetic_dataset_2.xlsx\n",
      "Saved: wide\\synthetic_dataset_3.xlsx\n",
      "Saved: wide\\synthetic_dataset_4.xlsx\n",
      "Saved: wide\\synthetic_dataset_5.xlsx\n",
      "Saved: wide\\synthetic_dataset_6.xlsx\n",
      "Saved: wide\\synthetic_dataset_7.xlsx\n"
     ]
    },
    {
     "name": "stderr",
     "output_type": "stream",
     "text": [
      "C:\\Users\\QuentinGEOFFROY\\AppData\\Local\\Temp\\ipykernel_18732\\3217170216.py:43: FutureWarning: Setting an item of incompatible dtype is deprecated and will raise an error in a future version of pandas. Value 'not a date' has dtype incompatible with datetime64[ns], please explicitly cast to a compatible dtype first.\n",
      "  df.at[row, col] = random.choice(['soon', 'not a date'])\n",
      "C:\\Users\\QuentinGEOFFROY\\AppData\\Local\\Temp\\ipykernel_18732\\3217170216.py:43: FutureWarning: Setting an item of incompatible dtype is deprecated and will raise an error in a future version of pandas. Value 'soon' has dtype incompatible with datetime64[ns], please explicitly cast to a compatible dtype first.\n",
      "  df.at[row, col] = random.choice(['soon', 'not a date'])\n",
      "C:\\Users\\QuentinGEOFFROY\\AppData\\Local\\Temp\\ipykernel_18732\\3217170216.py:43: FutureWarning: Setting an item of incompatible dtype is deprecated and will raise an error in a future version of pandas. Value 'not a date' has dtype incompatible with datetime64[ns], please explicitly cast to a compatible dtype first.\n",
      "  df.at[row, col] = random.choice(['soon', 'not a date'])\n",
      "C:\\Users\\QuentinGEOFFROY\\AppData\\Local\\Temp\\ipykernel_18732\\3217170216.py:43: FutureWarning: Setting an item of incompatible dtype is deprecated and will raise an error in a future version of pandas. Value 'not a date' has dtype incompatible with datetime64[ns], please explicitly cast to a compatible dtype first.\n",
      "  df.at[row, col] = random.choice(['soon', 'not a date'])\n"
     ]
    },
    {
     "name": "stdout",
     "output_type": "stream",
     "text": [
      "Saved: wide\\synthetic_dataset_8.xlsx\n",
      "Saved: wide\\synthetic_dataset_9.xlsx\n",
      "Saved: wide\\synthetic_dataset_10.xlsx\n",
      "Saved: wide\\synthetic_dataset_11.xlsx\n",
      "Saved: wide\\synthetic_dataset_12.xlsx\n",
      "Saved: wide\\synthetic_dataset_13.xlsx\n",
      "Saved: wide\\synthetic_dataset_14.xlsx\n"
     ]
    },
    {
     "name": "stderr",
     "output_type": "stream",
     "text": [
      "C:\\Users\\QuentinGEOFFROY\\AppData\\Local\\Temp\\ipykernel_18732\\3217170216.py:43: FutureWarning: Setting an item of incompatible dtype is deprecated and will raise an error in a future version of pandas. Value 'not a date' has dtype incompatible with datetime64[ns], please explicitly cast to a compatible dtype first.\n",
      "  df.at[row, col] = random.choice(['soon', 'not a date'])\n",
      "C:\\Users\\QuentinGEOFFROY\\AppData\\Local\\Temp\\ipykernel_18732\\3217170216.py:43: FutureWarning: Setting an item of incompatible dtype is deprecated and will raise an error in a future version of pandas. Value 'soon' has dtype incompatible with datetime64[ns], please explicitly cast to a compatible dtype first.\n",
      "  df.at[row, col] = random.choice(['soon', 'not a date'])\n"
     ]
    },
    {
     "name": "stdout",
     "output_type": "stream",
     "text": [
      "Saved: wide\\synthetic_dataset_15.xlsx\n",
      "Saved: wide\\synthetic_dataset_16.xlsx\n",
      "Saved: wide\\synthetic_dataset_17.xlsx\n",
      "Saved: wide\\synthetic_dataset_18.xlsx\n",
      "Saved: wide\\synthetic_dataset_19.xlsx\n",
      "Saved: wide\\synthetic_dataset_20.xlsx\n"
     ]
    },
    {
     "name": "stderr",
     "output_type": "stream",
     "text": [
      "C:\\Users\\QuentinGEOFFROY\\AppData\\Local\\Temp\\ipykernel_18732\\3217170216.py:43: FutureWarning: Setting an item of incompatible dtype is deprecated and will raise an error in a future version of pandas. Value 'soon' has dtype incompatible with datetime64[ns], please explicitly cast to a compatible dtype first.\n",
      "  df.at[row, col] = random.choice(['soon', 'not a date'])\n"
     ]
    }
   ],
   "source": [
    "os.makedirs(wide_folder, exist_ok=True)\n",
    "\n",
    "NUM_SETS = 20\n",
    "\n",
    "for i in range(NUM_SETS):\n",
    "    params = {\n",
    "        'num_rows': random.randint(12, 50),\n",
    "        'add_empty_cells': random.choice([True, False]),\n",
    "        'empty_frac': round(random.uniform(0.05, 0.3), 2),\n",
    "        'change_types': random.choice([True, False]),\n",
    "        'wrong_type_cols': random.sample(['Value', 'Date'], \n",
    "                                         k=random.randint(0, 2))\n",
    "    }\n",
    "\n",
    "    df = generate_df_wide_format(**params)\n",
    "    filepath = os.path.join(wide_folder, f'synthetic_dataset_{i+1}.xlsx')\n",
    "    df.to_excel(filepath, index=False)\n",
    "\n",
    "    print(f\"Saved: {filepath}\")"
   ]
  },
  {
   "attachments": {
    "image.png": {
     "image/png": "[encoded data removed]"
    }
   },
   "cell_type": "markdown",
   "id": "a67bbbfb",
   "metadata": {},
   "source": [
    "Multi-index Format Function\n",
    "\n",
    "\n",
    "![image.png](attachment:image.png)"
   ]
  },
  {
   "cell_type": "code",
   "execution_count": 28,
   "id": "dbdaefe4",
   "metadata": {},
   "outputs": [],
   "source": [
    "def generate_multiindex_sheets(\n",
    "    num_dates=2,\n",
    "    add_empty_cells=True,\n",
    "    empty_frac=0.1,\n",
    "    change_types=True,\n",
    "    wrong_type_cells=[('TV', 'Spend')]\n",
    "):\n",
    "    # Generate date range\n",
    "    base_date = pd.to_datetime('2025-07-10') + pd.Timedelta(days=np.random.randint(0, 100))\n",
    "    dates = pd.date_range(start=base_date, periods=num_dates, freq='7D')\n",
    "\n",
    "    # Channels and metrics\n",
    "    channels = ['TV', 'Radio']\n",
    "    metrics = ['Spend', 'GRPs']\n",
    "\n",
    "    # Build row-by-row dictionary\n",
    "    records = []\n",
    "    for date in dates:\n",
    "        row = {}\n",
    "        for ch in channels:\n",
    "            for m in metrics:\n",
    "                val = np.random.randint(50, 201) if m == 'Spend' else np.random.randint(1, 11)\n",
    "                row[(ch, m)] = val\n",
    "        row['Date'] = date\n",
    "        records.append(row)\n",
    "\n",
    "    # Create DataFrame\n",
    "    df = pd.DataFrame(records)\n",
    "\n",
    "    # Set Date as index, MultiIndex for columns\n",
    "    df.set_index('Date', inplace=True)\n",
    "    df.columns = pd.MultiIndex.from_tuples(df.columns)\n",
    "\n",
    "    # Introduce NaNs\n",
    "    if add_empty_cells:\n",
    "        total_cells = df.size\n",
    "        num_empty = int(total_cells * empty_frac)\n",
    "        for _ in range(num_empty):\n",
    "            row = np.random.choice(df.index)\n",
    "            col = random.choice(df.columns)\n",
    "            df.at[row, col] = np.nan\n",
    "\n",
    "    # Introduce wrong types\n",
    "    if change_types:\n",
    "        for col in wrong_type_cells:\n",
    "            if col in df.columns:\n",
    "                for row in np.random.choice(df.index, size=max(1, len(df)//8), replace=False):\n",
    "                    df.at[row, col] = random.choice(['low', 'NaN', 'unknown'])\n",
    "\n",
    "    return df\n"
   ]
  },
  {
   "cell_type": "markdown",
   "id": "26469899",
   "metadata": {},
   "source": [
    "Multi-Index Output"
   ]
  },
  {
   "cell_type": "code",
   "execution_count": 29,
   "id": "9ee31509",
   "metadata": {},
   "outputs": [
    {
     "name": "stdout",
     "output_type": "stream",
     "text": [
      "Saved: multi_index\\synthetic_dataset_1.xlsx\n",
      "Saved: multi_index\\synthetic_dataset_2.xlsx\n",
      "Saved: multi_index\\synthetic_dataset_3.xlsx\n",
      "Saved: multi_index\\synthetic_dataset_4.xlsx\n",
      "Saved: multi_index\\synthetic_dataset_5.xlsx\n",
      "Saved: multi_index\\synthetic_dataset_6.xlsx\n",
      "Saved: multi_index\\synthetic_dataset_7.xlsx\n"
     ]
    },
    {
     "name": "stderr",
     "output_type": "stream",
     "text": [
      "C:\\Users\\QuentinGEOFFROY\\AppData\\Local\\Temp\\ipykernel_18732\\1961310704.py:48: FutureWarning: Setting an item of incompatible dtype is deprecated and will raise an error in a future version of pandas. Value 'unknown' has dtype incompatible with float64, please explicitly cast to a compatible dtype first.\n",
      "  df.at[row, col] = random.choice(['low', 'NaN', 'unknown'])\n",
      "C:\\Users\\QuentinGEOFFROY\\AppData\\Local\\Temp\\ipykernel_18732\\1961310704.py:48: FutureWarning: Setting an item of incompatible dtype is deprecated and will raise an error in a future version of pandas. Value 'unknown' has dtype incompatible with float64, please explicitly cast to a compatible dtype first.\n",
      "  df.at[row, col] = random.choice(['low', 'NaN', 'unknown'])\n",
      "C:\\Users\\QuentinGEOFFROY\\AppData\\Local\\Temp\\ipykernel_18732\\1961310704.py:48: FutureWarning: Setting an item of incompatible dtype is deprecated and will raise an error in a future version of pandas. Value 'unknown' has dtype incompatible with int64, please explicitly cast to a compatible dtype first.\n",
      "  df.at[row, col] = random.choice(['low', 'NaN', 'unknown'])\n",
      "C:\\Users\\QuentinGEOFFROY\\AppData\\Local\\Temp\\ipykernel_18732\\1961310704.py:48: FutureWarning: Setting an item of incompatible dtype is deprecated and will raise an error in a future version of pandas. Value 'unknown' has dtype incompatible with int64, please explicitly cast to a compatible dtype first.\n",
      "  df.at[row, col] = random.choice(['low', 'NaN', 'unknown'])\n"
     ]
    },
    {
     "name": "stdout",
     "output_type": "stream",
     "text": [
      "Saved: multi_index\\synthetic_dataset_8.xlsx\n",
      "Saved: multi_index\\synthetic_dataset_9.xlsx\n",
      "Saved: multi_index\\synthetic_dataset_10.xlsx\n",
      "Saved: multi_index\\synthetic_dataset_11.xlsx\n",
      "Saved: multi_index\\synthetic_dataset_12.xlsx\n",
      "Saved: multi_index\\synthetic_dataset_13.xlsx\n"
     ]
    },
    {
     "name": "stderr",
     "output_type": "stream",
     "text": [
      "C:\\Users\\QuentinGEOFFROY\\AppData\\Local\\Temp\\ipykernel_18732\\1961310704.py:48: FutureWarning: Setting an item of incompatible dtype is deprecated and will raise an error in a future version of pandas. Value 'NaN' has dtype incompatible with int64, please explicitly cast to a compatible dtype first.\n",
      "  df.at[row, col] = random.choice(['low', 'NaN', 'unknown'])\n",
      "C:\\Users\\QuentinGEOFFROY\\AppData\\Local\\Temp\\ipykernel_18732\\1961310704.py:48: FutureWarning: Setting an item of incompatible dtype is deprecated and will raise an error in a future version of pandas. Value 'NaN' has dtype incompatible with int64, please explicitly cast to a compatible dtype first.\n",
      "  df.at[row, col] = random.choice(['low', 'NaN', 'unknown'])\n",
      "C:\\Users\\QuentinGEOFFROY\\AppData\\Local\\Temp\\ipykernel_18732\\1961310704.py:48: FutureWarning: Setting an item of incompatible dtype is deprecated and will raise an error in a future version of pandas. Value 'unknown' has dtype incompatible with int64, please explicitly cast to a compatible dtype first.\n",
      "  df.at[row, col] = random.choice(['low', 'NaN', 'unknown'])\n",
      "C:\\Users\\QuentinGEOFFROY\\AppData\\Local\\Temp\\ipykernel_18732\\1961310704.py:48: FutureWarning: Setting an item of incompatible dtype is deprecated and will raise an error in a future version of pandas. Value 'unknown' has dtype incompatible with int64, please explicitly cast to a compatible dtype first.\n",
      "  df.at[row, col] = random.choice(['low', 'NaN', 'unknown'])\n"
     ]
    },
    {
     "name": "stdout",
     "output_type": "stream",
     "text": [
      "Saved: multi_index\\synthetic_dataset_14.xlsx\n",
      "Saved: multi_index\\synthetic_dataset_15.xlsx\n",
      "Saved: multi_index\\synthetic_dataset_16.xlsx\n",
      "Saved: multi_index\\synthetic_dataset_17.xlsx\n",
      "Saved: multi_index\\synthetic_dataset_18.xlsx\n",
      "Saved: multi_index\\synthetic_dataset_19.xlsx\n",
      "Saved: multi_index\\synthetic_dataset_20.xlsx\n"
     ]
    },
    {
     "name": "stderr",
     "output_type": "stream",
     "text": [
      "C:\\Users\\QuentinGEOFFROY\\AppData\\Local\\Temp\\ipykernel_18732\\1961310704.py:48: FutureWarning: Setting an item of incompatible dtype is deprecated and will raise an error in a future version of pandas. Value 'low' has dtype incompatible with int64, please explicitly cast to a compatible dtype first.\n",
      "  df.at[row, col] = random.choice(['low', 'NaN', 'unknown'])\n",
      "C:\\Users\\QuentinGEOFFROY\\AppData\\Local\\Temp\\ipykernel_18732\\1961310704.py:48: FutureWarning: Setting an item of incompatible dtype is deprecated and will raise an error in a future version of pandas. Value 'low' has dtype incompatible with int64, please explicitly cast to a compatible dtype first.\n",
      "  df.at[row, col] = random.choice(['low', 'NaN', 'unknown'])\n"
     ]
    }
   ],
   "source": [
    "os.makedirs(multi_index_folder, exist_ok=True)\n",
    "\n",
    "NUM_SETS = 20\n",
    "\n",
    "for i in range(NUM_SETS):\n",
    "    params = {\n",
    "        'num_dates': random.randint(12, 50),\n",
    "        'add_empty_cells': random.choice([True, False]),\n",
    "        'empty_frac': round(random.uniform(0.05, 0.3), 2),\n",
    "        'change_types': random.choice([True, False]),\n",
    "        'wrong_type_cells': random.sample(['TV', 'Spend'], \n",
    "                                         k=random.randint(0, 2))\n",
    "    }\n",
    "\n",
    "    df = generate_multiindex_sheets(**params)\n",
    "    filepath = os.path.join(multi_index_folder, f'synthetic_dataset_{i+1}.xlsx')\n",
    "    df.to_excel(filepath)\n",
    "\n",
    "    print(f\"Saved: {filepath}\")\n"
   ]
  },
  {
   "attachments": {
    "image.png": {
     "image/png": "[encoded data removed]"
    }
   },
   "cell_type": "markdown",
   "id": "e7897819",
   "metadata": {},
   "source": [
    "Multi-Table\n",
    "\n",
    "\n",
    "![image.png](attachment:image.png)\n"
   ]
  },
  {
   "cell_type": "markdown",
   "id": "072c6aac",
   "metadata": {},
   "source": [
    "Multi-Table Output"
   ]
  },
  {
   "cell_type": "code",
   "execution_count": 30,
   "id": "78f4e691",
   "metadata": {},
   "outputs": [],
   "source": [
    "def generate_multi_table(num_dates=2):\n",
    "    base_date = pd.to_datetime('2025-07-10') + pd.Timedelta(days=np.random.randint(0, 100))\n",
    "    dates = pd.date_range(base_date, periods=num_dates, freq='7D')\n",
    "\n",
    "    rows = []\n",
    "    for date in dates:\n",
    "        for metric in ['Spend', 'GRPs']:\n",
    "            tv_value = np.random.randint(50, 201) if metric == 'Spend' else np.random.randint(1, 11)\n",
    "            radio_value = np.random.randint(50, 201) if metric == 'Spend' else np.random.randint(1, 11)\n",
    "            rows.append([date.strftime('%d/%m/%Y'), metric, tv_value, radio_value])\n",
    "\n",
    "    df = pd.DataFrame(rows, columns=['Date', 'Metric', 'TV', 'Radio'])\n",
    "    return df\n",
    "\n",
    "def generate_multitable_campaign_sheet(\n",
    "    num_campaigns=3,\n",
    "    num_dates=2,\n",
    "    add_empty_cells=True,\n",
    "    empty_frac=0.1,\n",
    "    change_types=True\n",
    "):\n",
    "    tables = []\n",
    "    for i in range(num_campaigns):\n",
    "        df = generate_multi_table(num_dates)\n",
    "\n",
    "        # Add empty cells\n",
    "        if add_empty_cells:\n",
    "            total_cells = df.size\n",
    "            num_empty = int(total_cells * empty_frac)\n",
    "            for _ in range(num_empty):\n",
    "                row = np.random.randint(0, df.shape[0])\n",
    "                col = np.random.choice(df.columns)\n",
    "                df.at[row, col] = np.nan\n",
    "\n",
    "        # Add wrong data types\n",
    "        if change_types:\n",
    "            for col in ['TV', 'Radio']:\n",
    "                for row in np.random.choice(df.index, size=max(1, len(df)//6), replace=False):\n",
    "                    df.at[row, col] = random.choice(['low', 'missing'])\n",
    "\n",
    "        # Add campaign label to columns\n",
    "        df.columns = pd.MultiIndex.from_product([[f'Campaign {chr(65 + i)}'], df.columns])\n",
    "        tables.append(df)\n",
    "\n",
    "        # Insert a visible spacer column after each campaign (except the last)\n",
    "        if i < num_campaigns - 1:\n",
    "            spacer = pd.DataFrame({'Spacer': [''] * df.shape[0]})\n",
    "            spacer.columns = pd.MultiIndex.from_tuples([(' ', ' ')])  # visually blank header\n",
    "            tables.append(spacer)\n",
    "\n",
    "    return pd.concat(tables, axis=1)\n"
   ]
  },
  {
   "cell_type": "markdown",
   "id": "c95a2778",
   "metadata": {},
   "source": [
    "Multi-Table Output"
   ]
  },
  {
   "cell_type": "code",
   "execution_count": 31,
   "id": "17734cf1",
   "metadata": {},
   "outputs": [
    {
     "name": "stdout",
     "output_type": "stream",
     "text": [
      "Saved: multi_table\\synthetic_dataset_1.xlsx\n",
      "Saved: multi_table\\synthetic_dataset_2.xlsx\n",
      "Saved: multi_table\\synthetic_dataset_3.xlsx\n"
     ]
    },
    {
     "name": "stderr",
     "output_type": "stream",
     "text": [
      "C:\\Users\\QuentinGEOFFROY\\AppData\\Local\\Temp\\ipykernel_18732\\1675927129.py:39: FutureWarning: Setting an item of incompatible dtype is deprecated and will raise an error in a future version of pandas. Value 'low' has dtype incompatible with int64, please explicitly cast to a compatible dtype first.\n",
      "  df.at[row, col] = random.choice(['low', 'missing'])\n",
      "C:\\Users\\QuentinGEOFFROY\\AppData\\Local\\Temp\\ipykernel_18732\\1675927129.py:39: FutureWarning: Setting an item of incompatible dtype is deprecated and will raise an error in a future version of pandas. Value 'missing' has dtype incompatible with int64, please explicitly cast to a compatible dtype first.\n",
      "  df.at[row, col] = random.choice(['low', 'missing'])\n",
      "C:\\Users\\QuentinGEOFFROY\\AppData\\Local\\Temp\\ipykernel_18732\\1675927129.py:39: FutureWarning: Setting an item of incompatible dtype is deprecated and will raise an error in a future version of pandas. Value 'low' has dtype incompatible with int64, please explicitly cast to a compatible dtype first.\n",
      "  df.at[row, col] = random.choice(['low', 'missing'])\n",
      "C:\\Users\\QuentinGEOFFROY\\AppData\\Local\\Temp\\ipykernel_18732\\1675927129.py:39: FutureWarning: Setting an item of incompatible dtype is deprecated and will raise an error in a future version of pandas. Value 'missing' has dtype incompatible with int64, please explicitly cast to a compatible dtype first.\n",
      "  df.at[row, col] = random.choice(['low', 'missing'])\n",
      "C:\\Users\\QuentinGEOFFROY\\AppData\\Local\\Temp\\ipykernel_18732\\1675927129.py:39: FutureWarning: Setting an item of incompatible dtype is deprecated and will raise an error in a future version of pandas. Value 'missing' has dtype incompatible with int64, please explicitly cast to a compatible dtype first.\n",
      "  df.at[row, col] = random.choice(['low', 'missing'])\n",
      "C:\\Users\\QuentinGEOFFROY\\AppData\\Local\\Temp\\ipykernel_18732\\1675927129.py:39: FutureWarning: Setting an item of incompatible dtype is deprecated and will raise an error in a future version of pandas. Value 'low' has dtype incompatible with int64, please explicitly cast to a compatible dtype first.\n",
      "  df.at[row, col] = random.choice(['low', 'missing'])\n",
      "C:\\Users\\QuentinGEOFFROY\\AppData\\Local\\Temp\\ipykernel_18732\\1675927129.py:39: FutureWarning: Setting an item of incompatible dtype is deprecated and will raise an error in a future version of pandas. Value 'low' has dtype incompatible with int64, please explicitly cast to a compatible dtype first.\n",
      "  df.at[row, col] = random.choice(['low', 'missing'])\n",
      "C:\\Users\\QuentinGEOFFROY\\AppData\\Local\\Temp\\ipykernel_18732\\1675927129.py:39: FutureWarning: Setting an item of incompatible dtype is deprecated and will raise an error in a future version of pandas. Value 'missing' has dtype incompatible with int64, please explicitly cast to a compatible dtype first.\n",
      "  df.at[row, col] = random.choice(['low', 'missing'])\n"
     ]
    },
    {
     "name": "stdout",
     "output_type": "stream",
     "text": [
      "Saved: multi_table\\synthetic_dataset_4.xlsx\n",
      "Saved: multi_table\\synthetic_dataset_5.xlsx\n",
      "Saved: multi_table\\synthetic_dataset_6.xlsx\n",
      "Saved: multi_table\\synthetic_dataset_7.xlsx\n",
      "Saved: multi_table\\synthetic_dataset_8.xlsx\n",
      "Saved: multi_table\\synthetic_dataset_9.xlsx\n",
      "Saved: multi_table\\synthetic_dataset_10.xlsx\n",
      "Saved: multi_table\\synthetic_dataset_11.xlsx\n"
     ]
    },
    {
     "name": "stderr",
     "output_type": "stream",
     "text": [
      "C:\\Users\\QuentinGEOFFROY\\AppData\\Local\\Temp\\ipykernel_18732\\1675927129.py:39: FutureWarning: Setting an item of incompatible dtype is deprecated and will raise an error in a future version of pandas. Value 'missing' has dtype incompatible with float64, please explicitly cast to a compatible dtype first.\n",
      "  df.at[row, col] = random.choice(['low', 'missing'])\n",
      "C:\\Users\\QuentinGEOFFROY\\AppData\\Local\\Temp\\ipykernel_18732\\1675927129.py:39: FutureWarning: Setting an item of incompatible dtype is deprecated and will raise an error in a future version of pandas. Value 'missing' has dtype incompatible with float64, please explicitly cast to a compatible dtype first.\n",
      "  df.at[row, col] = random.choice(['low', 'missing'])\n",
      "C:\\Users\\QuentinGEOFFROY\\AppData\\Local\\Temp\\ipykernel_18732\\1675927129.py:39: FutureWarning: Setting an item of incompatible dtype is deprecated and will raise an error in a future version of pandas. Value 'missing' has dtype incompatible with float64, please explicitly cast to a compatible dtype first.\n",
      "  df.at[row, col] = random.choice(['low', 'missing'])\n",
      "C:\\Users\\QuentinGEOFFROY\\AppData\\Local\\Temp\\ipykernel_18732\\1675927129.py:39: FutureWarning: Setting an item of incompatible dtype is deprecated and will raise an error in a future version of pandas. Value 'missing' has dtype incompatible with float64, please explicitly cast to a compatible dtype first.\n",
      "  df.at[row, col] = random.choice(['low', 'missing'])\n",
      "C:\\Users\\QuentinGEOFFROY\\AppData\\Local\\Temp\\ipykernel_18732\\1675927129.py:39: FutureWarning: Setting an item of incompatible dtype is deprecated and will raise an error in a future version of pandas. Value 'missing' has dtype incompatible with int64, please explicitly cast to a compatible dtype first.\n",
      "  df.at[row, col] = random.choice(['low', 'missing'])\n",
      "C:\\Users\\QuentinGEOFFROY\\AppData\\Local\\Temp\\ipykernel_18732\\1675927129.py:39: FutureWarning: Setting an item of incompatible dtype is deprecated and will raise an error in a future version of pandas. Value 'low' has dtype incompatible with int64, please explicitly cast to a compatible dtype first.\n",
      "  df.at[row, col] = random.choice(['low', 'missing'])\n",
      "C:\\Users\\QuentinGEOFFROY\\AppData\\Local\\Temp\\ipykernel_18732\\1675927129.py:39: FutureWarning: Setting an item of incompatible dtype is deprecated and will raise an error in a future version of pandas. Value 'missing' has dtype incompatible with int64, please explicitly cast to a compatible dtype first.\n",
      "  df.at[row, col] = random.choice(['low', 'missing'])\n",
      "C:\\Users\\QuentinGEOFFROY\\AppData\\Local\\Temp\\ipykernel_18732\\1675927129.py:39: FutureWarning: Setting an item of incompatible dtype is deprecated and will raise an error in a future version of pandas. Value 'missing' has dtype incompatible with int64, please explicitly cast to a compatible dtype first.\n",
      "  df.at[row, col] = random.choice(['low', 'missing'])\n",
      "C:\\Users\\QuentinGEOFFROY\\AppData\\Local\\Temp\\ipykernel_18732\\1675927129.py:39: FutureWarning: Setting an item of incompatible dtype is deprecated and will raise an error in a future version of pandas. Value 'missing' has dtype incompatible with int64, please explicitly cast to a compatible dtype first.\n",
      "  df.at[row, col] = random.choice(['low', 'missing'])\n",
      "C:\\Users\\QuentinGEOFFROY\\AppData\\Local\\Temp\\ipykernel_18732\\1675927129.py:39: FutureWarning: Setting an item of incompatible dtype is deprecated and will raise an error in a future version of pandas. Value 'low' has dtype incompatible with int64, please explicitly cast to a compatible dtype first.\n",
      "  df.at[row, col] = random.choice(['low', 'missing'])\n",
      "C:\\Users\\QuentinGEOFFROY\\AppData\\Local\\Temp\\ipykernel_18732\\1675927129.py:39: FutureWarning: Setting an item of incompatible dtype is deprecated and will raise an error in a future version of pandas. Value 'missing' has dtype incompatible with int64, please explicitly cast to a compatible dtype first.\n",
      "  df.at[row, col] = random.choice(['low', 'missing'])\n",
      "C:\\Users\\QuentinGEOFFROY\\AppData\\Local\\Temp\\ipykernel_18732\\1675927129.py:39: FutureWarning: Setting an item of incompatible dtype is deprecated and will raise an error in a future version of pandas. Value 'low' has dtype incompatible with int64, please explicitly cast to a compatible dtype first.\n",
      "  df.at[row, col] = random.choice(['low', 'missing'])\n",
      "C:\\Users\\QuentinGEOFFROY\\AppData\\Local\\Temp\\ipykernel_18732\\1675927129.py:39: FutureWarning: Setting an item of incompatible dtype is deprecated and will raise an error in a future version of pandas. Value 'missing' has dtype incompatible with int64, please explicitly cast to a compatible dtype first.\n",
      "  df.at[row, col] = random.choice(['low', 'missing'])\n",
      "C:\\Users\\QuentinGEOFFROY\\AppData\\Local\\Temp\\ipykernel_18732\\1675927129.py:39: FutureWarning: Setting an item of incompatible dtype is deprecated and will raise an error in a future version of pandas. Value 'missing' has dtype incompatible with int64, please explicitly cast to a compatible dtype first.\n",
      "  df.at[row, col] = random.choice(['low', 'missing'])\n",
      "C:\\Users\\QuentinGEOFFROY\\AppData\\Local\\Temp\\ipykernel_18732\\1675927129.py:39: FutureWarning: Setting an item of incompatible dtype is deprecated and will raise an error in a future version of pandas. Value 'missing' has dtype incompatible with int64, please explicitly cast to a compatible dtype first.\n",
      "  df.at[row, col] = random.choice(['low', 'missing'])\n",
      "C:\\Users\\QuentinGEOFFROY\\AppData\\Local\\Temp\\ipykernel_18732\\1675927129.py:39: FutureWarning: Setting an item of incompatible dtype is deprecated and will raise an error in a future version of pandas. Value 'low' has dtype incompatible with int64, please explicitly cast to a compatible dtype first.\n",
      "  df.at[row, col] = random.choice(['low', 'missing'])\n",
      "C:\\Users\\QuentinGEOFFROY\\AppData\\Local\\Temp\\ipykernel_18732\\1675927129.py:39: FutureWarning: Setting an item of incompatible dtype is deprecated and will raise an error in a future version of pandas. Value 'missing' has dtype incompatible with int64, please explicitly cast to a compatible dtype first.\n",
      "  df.at[row, col] = random.choice(['low', 'missing'])\n",
      "C:\\Users\\QuentinGEOFFROY\\AppData\\Local\\Temp\\ipykernel_18732\\1675927129.py:39: FutureWarning: Setting an item of incompatible dtype is deprecated and will raise an error in a future version of pandas. Value 'missing' has dtype incompatible with int64, please explicitly cast to a compatible dtype first.\n",
      "  df.at[row, col] = random.choice(['low', 'missing'])\n",
      "C:\\Users\\QuentinGEOFFROY\\AppData\\Local\\Temp\\ipykernel_18732\\1675927129.py:39: FutureWarning: Setting an item of incompatible dtype is deprecated and will raise an error in a future version of pandas. Value 'missing' has dtype incompatible with int64, please explicitly cast to a compatible dtype first.\n",
      "  df.at[row, col] = random.choice(['low', 'missing'])\n",
      "C:\\Users\\QuentinGEOFFROY\\AppData\\Local\\Temp\\ipykernel_18732\\1675927129.py:39: FutureWarning: Setting an item of incompatible dtype is deprecated and will raise an error in a future version of pandas. Value 'missing' has dtype incompatible with int64, please explicitly cast to a compatible dtype first.\n",
      "  df.at[row, col] = random.choice(['low', 'missing'])\n",
      "C:\\Users\\QuentinGEOFFROY\\AppData\\Local\\Temp\\ipykernel_18732\\1675927129.py:39: FutureWarning: Setting an item of incompatible dtype is deprecated and will raise an error in a future version of pandas. Value 'missing' has dtype incompatible with int64, please explicitly cast to a compatible dtype first.\n",
      "  df.at[row, col] = random.choice(['low', 'missing'])\n",
      "C:\\Users\\QuentinGEOFFROY\\AppData\\Local\\Temp\\ipykernel_18732\\1675927129.py:39: FutureWarning: Setting an item of incompatible dtype is deprecated and will raise an error in a future version of pandas. Value 'missing' has dtype incompatible with int64, please explicitly cast to a compatible dtype first.\n",
      "  df.at[row, col] = random.choice(['low', 'missing'])\n",
      "C:\\Users\\QuentinGEOFFROY\\AppData\\Local\\Temp\\ipykernel_18732\\1675927129.py:39: FutureWarning: Setting an item of incompatible dtype is deprecated and will raise an error in a future version of pandas. Value 'low' has dtype incompatible with int64, please explicitly cast to a compatible dtype first.\n",
      "  df.at[row, col] = random.choice(['low', 'missing'])\n",
      "C:\\Users\\QuentinGEOFFROY\\AppData\\Local\\Temp\\ipykernel_18732\\1675927129.py:39: FutureWarning: Setting an item of incompatible dtype is deprecated and will raise an error in a future version of pandas. Value 'missing' has dtype incompatible with int64, please explicitly cast to a compatible dtype first.\n",
      "  df.at[row, col] = random.choice(['low', 'missing'])\n",
      "C:\\Users\\QuentinGEOFFROY\\AppData\\Local\\Temp\\ipykernel_18732\\1675927129.py:39: FutureWarning: Setting an item of incompatible dtype is deprecated and will raise an error in a future version of pandas. Value 'missing' has dtype incompatible with float64, please explicitly cast to a compatible dtype first.\n",
      "  df.at[row, col] = random.choice(['low', 'missing'])\n",
      "C:\\Users\\QuentinGEOFFROY\\AppData\\Local\\Temp\\ipykernel_18732\\1675927129.py:39: FutureWarning: Setting an item of incompatible dtype is deprecated and will raise an error in a future version of pandas. Value 'missing' has dtype incompatible with int64, please explicitly cast to a compatible dtype first.\n",
      "  df.at[row, col] = random.choice(['low', 'missing'])\n",
      "C:\\Users\\QuentinGEOFFROY\\AppData\\Local\\Temp\\ipykernel_18732\\1675927129.py:39: FutureWarning: Setting an item of incompatible dtype is deprecated and will raise an error in a future version of pandas. Value 'missing' has dtype incompatible with float64, please explicitly cast to a compatible dtype first.\n",
      "  df.at[row, col] = random.choice(['low', 'missing'])\n",
      "C:\\Users\\QuentinGEOFFROY\\AppData\\Local\\Temp\\ipykernel_18732\\1675927129.py:39: FutureWarning: Setting an item of incompatible dtype is deprecated and will raise an error in a future version of pandas. Value 'low' has dtype incompatible with int64, please explicitly cast to a compatible dtype first.\n",
      "  df.at[row, col] = random.choice(['low', 'missing'])\n",
      "C:\\Users\\QuentinGEOFFROY\\AppData\\Local\\Temp\\ipykernel_18732\\1675927129.py:39: FutureWarning: Setting an item of incompatible dtype is deprecated and will raise an error in a future version of pandas. Value 'low' has dtype incompatible with float64, please explicitly cast to a compatible dtype first.\n",
      "  df.at[row, col] = random.choice(['low', 'missing'])\n",
      "C:\\Users\\QuentinGEOFFROY\\AppData\\Local\\Temp\\ipykernel_18732\\1675927129.py:39: FutureWarning: Setting an item of incompatible dtype is deprecated and will raise an error in a future version of pandas. Value 'low' has dtype incompatible with float64, please explicitly cast to a compatible dtype first.\n",
      "  df.at[row, col] = random.choice(['low', 'missing'])\n",
      "C:\\Users\\QuentinGEOFFROY\\AppData\\Local\\Temp\\ipykernel_18732\\1675927129.py:39: FutureWarning: Setting an item of incompatible dtype is deprecated and will raise an error in a future version of pandas. Value 'missing' has dtype incompatible with float64, please explicitly cast to a compatible dtype first.\n",
      "  df.at[row, col] = random.choice(['low', 'missing'])\n",
      "C:\\Users\\QuentinGEOFFROY\\AppData\\Local\\Temp\\ipykernel_18732\\1675927129.py:39: FutureWarning: Setting an item of incompatible dtype is deprecated and will raise an error in a future version of pandas. Value 'missing' has dtype incompatible with float64, please explicitly cast to a compatible dtype first.\n",
      "  df.at[row, col] = random.choice(['low', 'missing'])\n",
      "C:\\Users\\QuentinGEOFFROY\\AppData\\Local\\Temp\\ipykernel_18732\\1675927129.py:39: FutureWarning: Setting an item of incompatible dtype is deprecated and will raise an error in a future version of pandas. Value 'missing' has dtype incompatible with int64, please explicitly cast to a compatible dtype first.\n",
      "  df.at[row, col] = random.choice(['low', 'missing'])\n",
      "C:\\Users\\QuentinGEOFFROY\\AppData\\Local\\Temp\\ipykernel_18732\\1675927129.py:39: FutureWarning: Setting an item of incompatible dtype is deprecated and will raise an error in a future version of pandas. Value 'low' has dtype incompatible with int64, please explicitly cast to a compatible dtype first.\n",
      "  df.at[row, col] = random.choice(['low', 'missing'])\n",
      "C:\\Users\\QuentinGEOFFROY\\AppData\\Local\\Temp\\ipykernel_18732\\1675927129.py:39: FutureWarning: Setting an item of incompatible dtype is deprecated and will raise an error in a future version of pandas. Value 'missing' has dtype incompatible with int64, please explicitly cast to a compatible dtype first.\n",
      "  df.at[row, col] = random.choice(['low', 'missing'])\n",
      "C:\\Users\\QuentinGEOFFROY\\AppData\\Local\\Temp\\ipykernel_18732\\1675927129.py:39: FutureWarning: Setting an item of incompatible dtype is deprecated and will raise an error in a future version of pandas. Value 'missing' has dtype incompatible with int64, please explicitly cast to a compatible dtype first.\n",
      "  df.at[row, col] = random.choice(['low', 'missing'])\n"
     ]
    },
    {
     "name": "stdout",
     "output_type": "stream",
     "text": [
      "Saved: multi_table\\synthetic_dataset_12.xlsx\n",
      "Saved: multi_table\\synthetic_dataset_13.xlsx\n",
      "Saved: multi_table\\synthetic_dataset_14.xlsx\n",
      "Saved: multi_table\\synthetic_dataset_15.xlsx\n",
      "Saved: multi_table\\synthetic_dataset_16.xlsx\n",
      "Saved: multi_table\\synthetic_dataset_17.xlsx\n",
      "Saved: multi_table\\synthetic_dataset_18.xlsx\n",
      "Saved: multi_table\\synthetic_dataset_19.xlsx\n",
      "Saved: multi_table\\synthetic_dataset_20.xlsx\n"
     ]
    },
    {
     "name": "stderr",
     "output_type": "stream",
     "text": [
      "C:\\Users\\QuentinGEOFFROY\\AppData\\Local\\Temp\\ipykernel_18732\\1675927129.py:39: FutureWarning: Setting an item of incompatible dtype is deprecated and will raise an error in a future version of pandas. Value 'missing' has dtype incompatible with float64, please explicitly cast to a compatible dtype first.\n",
      "  df.at[row, col] = random.choice(['low', 'missing'])\n",
      "C:\\Users\\QuentinGEOFFROY\\AppData\\Local\\Temp\\ipykernel_18732\\1675927129.py:39: FutureWarning: Setting an item of incompatible dtype is deprecated and will raise an error in a future version of pandas. Value 'low' has dtype incompatible with float64, please explicitly cast to a compatible dtype first.\n",
      "  df.at[row, col] = random.choice(['low', 'missing'])\n",
      "C:\\Users\\QuentinGEOFFROY\\AppData\\Local\\Temp\\ipykernel_18732\\1675927129.py:39: FutureWarning: Setting an item of incompatible dtype is deprecated and will raise an error in a future version of pandas. Value 'missing' has dtype incompatible with float64, please explicitly cast to a compatible dtype first.\n",
      "  df.at[row, col] = random.choice(['low', 'missing'])\n",
      "C:\\Users\\QuentinGEOFFROY\\AppData\\Local\\Temp\\ipykernel_18732\\1675927129.py:39: FutureWarning: Setting an item of incompatible dtype is deprecated and will raise an error in a future version of pandas. Value 'low' has dtype incompatible with float64, please explicitly cast to a compatible dtype first.\n",
      "  df.at[row, col] = random.choice(['low', 'missing'])\n",
      "C:\\Users\\QuentinGEOFFROY\\AppData\\Local\\Temp\\ipykernel_18732\\1675927129.py:39: FutureWarning: Setting an item of incompatible dtype is deprecated and will raise an error in a future version of pandas. Value 'missing' has dtype incompatible with float64, please explicitly cast to a compatible dtype first.\n",
      "  df.at[row, col] = random.choice(['low', 'missing'])\n",
      "C:\\Users\\QuentinGEOFFROY\\AppData\\Local\\Temp\\ipykernel_18732\\1675927129.py:39: FutureWarning: Setting an item of incompatible dtype is deprecated and will raise an error in a future version of pandas. Value 'low' has dtype incompatible with float64, please explicitly cast to a compatible dtype first.\n",
      "  df.at[row, col] = random.choice(['low', 'missing'])\n",
      "C:\\Users\\QuentinGEOFFROY\\AppData\\Local\\Temp\\ipykernel_18732\\1675927129.py:39: FutureWarning: Setting an item of incompatible dtype is deprecated and will raise an error in a future version of pandas. Value 'missing' has dtype incompatible with float64, please explicitly cast to a compatible dtype first.\n",
      "  df.at[row, col] = random.choice(['low', 'missing'])\n",
      "C:\\Users\\QuentinGEOFFROY\\AppData\\Local\\Temp\\ipykernel_18732\\1675927129.py:39: FutureWarning: Setting an item of incompatible dtype is deprecated and will raise an error in a future version of pandas. Value 'missing' has dtype incompatible with float64, please explicitly cast to a compatible dtype first.\n",
      "  df.at[row, col] = random.choice(['low', 'missing'])\n",
      "C:\\Users\\QuentinGEOFFROY\\AppData\\Local\\Temp\\ipykernel_18732\\1675927129.py:39: FutureWarning: Setting an item of incompatible dtype is deprecated and will raise an error in a future version of pandas. Value 'missing' has dtype incompatible with float64, please explicitly cast to a compatible dtype first.\n",
      "  df.at[row, col] = random.choice(['low', 'missing'])\n",
      "C:\\Users\\QuentinGEOFFROY\\AppData\\Local\\Temp\\ipykernel_18732\\1675927129.py:39: FutureWarning: Setting an item of incompatible dtype is deprecated and will raise an error in a future version of pandas. Value 'missing' has dtype incompatible with float64, please explicitly cast to a compatible dtype first.\n",
      "  df.at[row, col] = random.choice(['low', 'missing'])\n",
      "C:\\Users\\QuentinGEOFFROY\\AppData\\Local\\Temp\\ipykernel_18732\\1675927129.py:39: FutureWarning: Setting an item of incompatible dtype is deprecated and will raise an error in a future version of pandas. Value 'low' has dtype incompatible with float64, please explicitly cast to a compatible dtype first.\n",
      "  df.at[row, col] = random.choice(['low', 'missing'])\n",
      "C:\\Users\\QuentinGEOFFROY\\AppData\\Local\\Temp\\ipykernel_18732\\1675927129.py:39: FutureWarning: Setting an item of incompatible dtype is deprecated and will raise an error in a future version of pandas. Value 'missing' has dtype incompatible with int64, please explicitly cast to a compatible dtype first.\n",
      "  df.at[row, col] = random.choice(['low', 'missing'])\n",
      "C:\\Users\\QuentinGEOFFROY\\AppData\\Local\\Temp\\ipykernel_18732\\1675927129.py:39: FutureWarning: Setting an item of incompatible dtype is deprecated and will raise an error in a future version of pandas. Value 'missing' has dtype incompatible with float64, please explicitly cast to a compatible dtype first.\n",
      "  df.at[row, col] = random.choice(['low', 'missing'])\n",
      "C:\\Users\\QuentinGEOFFROY\\AppData\\Local\\Temp\\ipykernel_18732\\1675927129.py:39: FutureWarning: Setting an item of incompatible dtype is deprecated and will raise an error in a future version of pandas. Value 'low' has dtype incompatible with float64, please explicitly cast to a compatible dtype first.\n",
      "  df.at[row, col] = random.choice(['low', 'missing'])\n"
     ]
    }
   ],
   "source": [
    "multi_table_folder = 'multi_table'\n",
    "os.makedirs(multi_table_folder, exist_ok=True)\n",
    "\n",
    "NUM_SETS = 20\n",
    "\n",
    "for i in range(NUM_SETS):\n",
    "    params = {\n",
    "        'num_campaigns': random.randint(2, 4),                         # 2 to 4 side-by-side campaigns\n",
    "        'num_dates': random.randint(2, 6),                             # number of weekly dates\n",
    "        'add_empty_cells': random.choice([True, False]),\n",
    "        'empty_frac': round(random.uniform(0.05, 0.3), 2),\n",
    "        'change_types': random.choice([True, False])\n",
    "    }\n",
    "\n",
    "    df = generate_multitable_campaign_sheet(**params)\n",
    "    filepath = os.path.join(multi_table_folder, f'synthetic_dataset_{i+1}.xlsx')\n",
    "    df.to_excel(filepath)\n",
    "\n",
    "    print(f\"Saved: {filepath}\")\n"
   ]
  }
 ],
 "metadata": {
  "kernelspec": {
   "display_name": "base",
   "language": "python",
   "name": "python3"
  },
  "language_info": {
   "codemirror_mode": {
    "name": "ipython",
    "version": 3
   },
   "file_extension": ".py",
   "mimetype": "text/x-python",
   "name": "python",
   "nbconvert_exporter": "python",
   "pygments_lexer": "ipython3",
   "version": "3.13.5"
  }
 },
 "nbformat": 4,
 "nbformat_minor": 5
}
