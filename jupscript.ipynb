{
 "cells": [
  {
   "cell_type": "code",
   "execution_count": 7,
   "id": "3ede0492",
   "metadata": {},
   "outputs": [],
   "source": [
    "# This the shape generator file for Excel spreadsheets\n",
    "# Test Runs: Create 20 spreadsheets in long format (4 columns (Date, Channel, Metric, Value), 8 rows)\n",
    "# Noise transformations: random values for int, set value of strings for now (Daily granularity for date, 2 choices for Channel and Metric)\n"
   ]
  },
  {
   "cell_type": "code",
   "execution_count": 8,
   "id": "71d52564",
   "metadata": {},
   "outputs": [],
   "source": [
    "import pandas as pd\n",
    "import numpy as np\n",
    "from itertools import product\n",
    "import random\n",
    "import os\n",
    "\n",
    "long_folder = 'long_first'\n",
    "multi_index_folder = 'multi_index'\n",
    "multi_table_folder = 'multi_table'\n",
    "relational_folder = 'relational'\n",
    "wide_folder = 'wide'\n"
   ]
  },
  {
   "cell_type": "markdown",
   "id": "4fd7abdd",
   "metadata": {},
   "source": [
    "Long format function"
   ]
  },
  {
   "cell_type": "code",
   "execution_count": 9,
   "id": "a9e64638",
   "metadata": {},
   "outputs": [],
   "source": [
    "def generate_long_df(\n",
    "    num_rows=16,\n",
    "    add_empty_cells=True,\n",
    "    empty_frac=0.1,\n",
    "    change_types=True,\n",
    "    wrong_type_cols=['Value']\n",
    "):\n",
    "    # Generate date range\n",
    "    base_date = pd.to_datetime('2025-07-10') + pd.Timedelta(days=np.random.randint(0, 365))\n",
    "    dates = pd.date_range(base_date, periods=num_rows//4, freq='7D')\n",
    "\n",
    "    # Generate combinations\n",
    "    channels = ['TV', 'Radio']\n",
    "    metrics = ['Spend', 'GRPs']\n",
    "    all_combinations = list(product(dates, channels, metrics))\n",
    "    df = pd.DataFrame(all_combinations, columns=['Date', 'Channel', 'Metric'])\n",
    "\n",
    "    # Assign values\n",
    "    def random_value(metric):\n",
    "        if metric == 'Spend':\n",
    "            return np.random.randint(50, 201)\n",
    "        return np.random.randint(1, 11)\n",
    "\n",
    "    df['Value'] = df['Metric'].apply(random_value)\n",
    "\n",
    "    # Pad or trim to desired num_rows\n",
    "    if len(df) < num_rows:\n",
    "        df = pd.concat([df] * (num_rows // len(df) + 1), ignore_index=True)\n",
    "    df = df.sample(n=num_rows, random_state=42).reset_index(drop=True)\n",
    "\n",
    "    # Introduce empty cells\n",
    "    if add_empty_cells:\n",
    "        total_cells = df.size\n",
    "        num_empty = int(total_cells * empty_frac)\n",
    "        for _ in range(num_empty):\n",
    "            row = np.random.randint(0, df.shape[0])\n",
    "            col = np.random.choice(df.columns)\n",
    "            df.at[row, col] = np.nan\n",
    "\n",
    "    # Introduce wrong data types\n",
    "    if change_types:\n",
    "        for col in wrong_type_cols:\n",
    "            for row in np.random.choice(df.index, size=max(1, len(df)//8), replace=False):\n",
    "                if col == 'Value':\n",
    "                    df.at[row, col] = random.choice(['one hundred', 'ten', 'NaN'])\n",
    "                elif col == 'Date':\n",
    "                    df.at[row, col] = random.choice(['not a date', 'yesterday', 'soon'])\n",
    "\n",
    "    return df"
   ]
  },
  {
   "cell_type": "markdown",
   "id": "a8d6f0a3",
   "metadata": {},
   "source": [
    "Long Output"
   ]
  },
  {
   "cell_type": "code",
   "execution_count": 10,
   "id": "49dbd26f",
   "metadata": {},
   "outputs": [
    {
     "name": "stderr",
     "output_type": "stream",
     "text": [
      "C:\\Users\\QuentinGEOFFROY\\AppData\\Local\\Temp\\ipykernel_1940\\3559396912.py:45: FutureWarning: Setting an item of incompatible dtype is deprecated and will raise an error in a future version of pandas. Value 'ten' has dtype incompatible with int64, please explicitly cast to a compatible dtype first.\n",
      "  df.at[row, col] = random.choice(['one hundred', 'ten', 'NaN'])\n",
      "C:\\Users\\QuentinGEOFFROY\\AppData\\Local\\Temp\\ipykernel_1940\\3559396912.py:47: FutureWarning: Setting an item of incompatible dtype is deprecated and will raise an error in a future version of pandas. Value 'yesterday' has dtype incompatible with datetime64[ns], please explicitly cast to a compatible dtype first.\n",
      "  df.at[row, col] = random.choice(['not a date', 'yesterday', 'soon'])\n"
     ]
    },
    {
     "name": "stdout",
     "output_type": "stream",
     "text": [
      "Saved: long_first\\synthetic_dataset_1.xlsx\n",
      "Saved: long_first\\synthetic_dataset_2.xlsx\n",
      "Saved: long_first\\synthetic_dataset_3.xlsx\n",
      "Saved: long_first\\synthetic_dataset_4.xlsx\n",
      "Saved: long_first\\synthetic_dataset_5.xlsx\n",
      "Saved: long_first\\synthetic_dataset_6.xlsx\n",
      "Saved: long_first\\synthetic_dataset_7.xlsx\n"
     ]
    },
    {
     "name": "stderr",
     "output_type": "stream",
     "text": [
      "C:\\Users\\QuentinGEOFFROY\\AppData\\Local\\Temp\\ipykernel_1940\\3559396912.py:47: FutureWarning: Setting an item of incompatible dtype is deprecated and will raise an error in a future version of pandas. Value 'soon' has dtype incompatible with datetime64[ns], please explicitly cast to a compatible dtype first.\n",
      "  df.at[row, col] = random.choice(['not a date', 'yesterday', 'soon'])\n",
      "C:\\Users\\QuentinGEOFFROY\\AppData\\Local\\Temp\\ipykernel_1940\\3559396912.py:47: FutureWarning: Setting an item of incompatible dtype is deprecated and will raise an error in a future version of pandas. Value 'yesterday' has dtype incompatible with datetime64[ns], please explicitly cast to a compatible dtype first.\n",
      "  df.at[row, col] = random.choice(['not a date', 'yesterday', 'soon'])\n"
     ]
    },
    {
     "name": "stdout",
     "output_type": "stream",
     "text": [
      "Saved: long_first\\synthetic_dataset_8.xlsx\n",
      "Saved: long_first\\synthetic_dataset_9.xlsx\n",
      "Saved: long_first\\synthetic_dataset_10.xlsx\n"
     ]
    },
    {
     "ename": "PermissionError",
     "evalue": "[Errno 13] Permission denied: 'long_first\\\\synthetic_dataset_11.xlsx'",
     "output_type": "error",
     "traceback": [
      "\u001b[1;31m---------------------------------------------------------------------------\u001b[0m",
      "\u001b[1;31mPermissionError\u001b[0m                           Traceback (most recent call last)",
      "Cell \u001b[1;32mIn[10], line 17\u001b[0m\n\u001b[0;32m     15\u001b[0m df \u001b[38;5;241m=\u001b[39m generate_long_df(\u001b[38;5;241m*\u001b[39m\u001b[38;5;241m*\u001b[39mparams)\n\u001b[0;32m     16\u001b[0m filepath \u001b[38;5;241m=\u001b[39m os\u001b[38;5;241m.\u001b[39mpath\u001b[38;5;241m.\u001b[39mjoin(long_folder, \u001b[38;5;124mf\u001b[39m\u001b[38;5;124m'\u001b[39m\u001b[38;5;124msynthetic_dataset_\u001b[39m\u001b[38;5;132;01m{\u001b[39;00mi\u001b[38;5;241m+\u001b[39m\u001b[38;5;241m1\u001b[39m\u001b[38;5;132;01m}\u001b[39;00m\u001b[38;5;124m.xlsx\u001b[39m\u001b[38;5;124m'\u001b[39m)\n\u001b[1;32m---> 17\u001b[0m df\u001b[38;5;241m.\u001b[39mto_excel(filepath, index\u001b[38;5;241m=\u001b[39m\u001b[38;5;28;01mFalse\u001b[39;00m)\n\u001b[0;32m     19\u001b[0m \u001b[38;5;28mprint\u001b[39m(\u001b[38;5;124mf\u001b[39m\u001b[38;5;124m\"\u001b[39m\u001b[38;5;124mSaved: \u001b[39m\u001b[38;5;132;01m{\u001b[39;00mfilepath\u001b[38;5;132;01m}\u001b[39;00m\u001b[38;5;124m\"\u001b[39m)\n",
      "File \u001b[1;32mc:\\Users\\QuentinGEOFFROY\\anaconda3\\Lib\\site-packages\\pandas\\util\\_decorators.py:333\u001b[0m, in \u001b[0;36mdeprecate_nonkeyword_arguments.<locals>.decorate.<locals>.wrapper\u001b[1;34m(*args, **kwargs)\u001b[0m\n\u001b[0;32m    327\u001b[0m \u001b[38;5;28;01mif\u001b[39;00m \u001b[38;5;28mlen\u001b[39m(args) \u001b[38;5;241m>\u001b[39m num_allow_args:\n\u001b[0;32m    328\u001b[0m     warnings\u001b[38;5;241m.\u001b[39mwarn(\n\u001b[0;32m    329\u001b[0m         msg\u001b[38;5;241m.\u001b[39mformat(arguments\u001b[38;5;241m=\u001b[39m_format_argument_list(allow_args)),\n\u001b[0;32m    330\u001b[0m         \u001b[38;5;167;01mFutureWarning\u001b[39;00m,\n\u001b[0;32m    331\u001b[0m         stacklevel\u001b[38;5;241m=\u001b[39mfind_stack_level(),\n\u001b[0;32m    332\u001b[0m     )\n\u001b[1;32m--> 333\u001b[0m \u001b[38;5;28;01mreturn\u001b[39;00m func(\u001b[38;5;241m*\u001b[39margs, \u001b[38;5;241m*\u001b[39m\u001b[38;5;241m*\u001b[39mkwargs)\n",
      "File \u001b[1;32mc:\\Users\\QuentinGEOFFROY\\anaconda3\\Lib\\site-packages\\pandas\\core\\generic.py:2417\u001b[0m, in \u001b[0;36mNDFrame.to_excel\u001b[1;34m(self, excel_writer, sheet_name, na_rep, float_format, columns, header, index, index_label, startrow, startcol, engine, merge_cells, inf_rep, freeze_panes, storage_options, engine_kwargs)\u001b[0m\n\u001b[0;32m   2404\u001b[0m \u001b[38;5;28;01mfrom\u001b[39;00m\u001b[38;5;250m \u001b[39m\u001b[38;5;21;01mpandas\u001b[39;00m\u001b[38;5;21;01m.\u001b[39;00m\u001b[38;5;21;01mio\u001b[39;00m\u001b[38;5;21;01m.\u001b[39;00m\u001b[38;5;21;01mformats\u001b[39;00m\u001b[38;5;21;01m.\u001b[39;00m\u001b[38;5;21;01mexcel\u001b[39;00m\u001b[38;5;250m \u001b[39m\u001b[38;5;28;01mimport\u001b[39;00m ExcelFormatter\n\u001b[0;32m   2406\u001b[0m formatter \u001b[38;5;241m=\u001b[39m ExcelFormatter(\n\u001b[0;32m   2407\u001b[0m     df,\n\u001b[0;32m   2408\u001b[0m     na_rep\u001b[38;5;241m=\u001b[39mna_rep,\n\u001b[1;32m   (...)\u001b[0m\n\u001b[0;32m   2415\u001b[0m     inf_rep\u001b[38;5;241m=\u001b[39minf_rep,\n\u001b[0;32m   2416\u001b[0m )\n\u001b[1;32m-> 2417\u001b[0m formatter\u001b[38;5;241m.\u001b[39mwrite(\n\u001b[0;32m   2418\u001b[0m     excel_writer,\n\u001b[0;32m   2419\u001b[0m     sheet_name\u001b[38;5;241m=\u001b[39msheet_name,\n\u001b[0;32m   2420\u001b[0m     startrow\u001b[38;5;241m=\u001b[39mstartrow,\n\u001b[0;32m   2421\u001b[0m     startcol\u001b[38;5;241m=\u001b[39mstartcol,\n\u001b[0;32m   2422\u001b[0m     freeze_panes\u001b[38;5;241m=\u001b[39mfreeze_panes,\n\u001b[0;32m   2423\u001b[0m     engine\u001b[38;5;241m=\u001b[39mengine,\n\u001b[0;32m   2424\u001b[0m     storage_options\u001b[38;5;241m=\u001b[39mstorage_options,\n\u001b[0;32m   2425\u001b[0m     engine_kwargs\u001b[38;5;241m=\u001b[39mengine_kwargs,\n\u001b[0;32m   2426\u001b[0m )\n",
      "File \u001b[1;32mc:\\Users\\QuentinGEOFFROY\\anaconda3\\Lib\\site-packages\\pandas\\io\\formats\\excel.py:943\u001b[0m, in \u001b[0;36mExcelFormatter.write\u001b[1;34m(self, writer, sheet_name, startrow, startcol, freeze_panes, engine, storage_options, engine_kwargs)\u001b[0m\n\u001b[0;32m    941\u001b[0m     need_save \u001b[38;5;241m=\u001b[39m \u001b[38;5;28;01mFalse\u001b[39;00m\n\u001b[0;32m    942\u001b[0m \u001b[38;5;28;01melse\u001b[39;00m:\n\u001b[1;32m--> 943\u001b[0m     writer \u001b[38;5;241m=\u001b[39m ExcelWriter(\n\u001b[0;32m    944\u001b[0m         writer,\n\u001b[0;32m    945\u001b[0m         engine\u001b[38;5;241m=\u001b[39mengine,\n\u001b[0;32m    946\u001b[0m         storage_options\u001b[38;5;241m=\u001b[39mstorage_options,\n\u001b[0;32m    947\u001b[0m         engine_kwargs\u001b[38;5;241m=\u001b[39mengine_kwargs,\n\u001b[0;32m    948\u001b[0m     )\n\u001b[0;32m    949\u001b[0m     need_save \u001b[38;5;241m=\u001b[39m \u001b[38;5;28;01mTrue\u001b[39;00m\n\u001b[0;32m    951\u001b[0m \u001b[38;5;28;01mtry\u001b[39;00m:\n",
      "File \u001b[1;32mc:\\Users\\QuentinGEOFFROY\\anaconda3\\Lib\\site-packages\\pandas\\io\\excel\\_xlsxwriter.py:204\u001b[0m, in \u001b[0;36mXlsxWriter.__init__\u001b[1;34m(self, path, engine, date_format, datetime_format, mode, storage_options, if_sheet_exists, engine_kwargs, **kwargs)\u001b[0m\n\u001b[0;32m    201\u001b[0m \u001b[38;5;28;01mif\u001b[39;00m mode \u001b[38;5;241m==\u001b[39m \u001b[38;5;124m\"\u001b[39m\u001b[38;5;124ma\u001b[39m\u001b[38;5;124m\"\u001b[39m:\n\u001b[0;32m    202\u001b[0m     \u001b[38;5;28;01mraise\u001b[39;00m \u001b[38;5;167;01mValueError\u001b[39;00m(\u001b[38;5;124m\"\u001b[39m\u001b[38;5;124mAppend mode is not supported with xlsxwriter!\u001b[39m\u001b[38;5;124m\"\u001b[39m)\n\u001b[1;32m--> 204\u001b[0m \u001b[38;5;28msuper\u001b[39m()\u001b[38;5;241m.\u001b[39m\u001b[38;5;21m__init__\u001b[39m(\n\u001b[0;32m    205\u001b[0m     path,\n\u001b[0;32m    206\u001b[0m     engine\u001b[38;5;241m=\u001b[39mengine,\n\u001b[0;32m    207\u001b[0m     date_format\u001b[38;5;241m=\u001b[39mdate_format,\n\u001b[0;32m    208\u001b[0m     datetime_format\u001b[38;5;241m=\u001b[39mdatetime_format,\n\u001b[0;32m    209\u001b[0m     mode\u001b[38;5;241m=\u001b[39mmode,\n\u001b[0;32m    210\u001b[0m     storage_options\u001b[38;5;241m=\u001b[39mstorage_options,\n\u001b[0;32m    211\u001b[0m     if_sheet_exists\u001b[38;5;241m=\u001b[39mif_sheet_exists,\n\u001b[0;32m    212\u001b[0m     engine_kwargs\u001b[38;5;241m=\u001b[39mengine_kwargs,\n\u001b[0;32m    213\u001b[0m )\n\u001b[0;32m    215\u001b[0m \u001b[38;5;28;01mtry\u001b[39;00m:\n\u001b[0;32m    216\u001b[0m     \u001b[38;5;28mself\u001b[39m\u001b[38;5;241m.\u001b[39m_book \u001b[38;5;241m=\u001b[39m Workbook(\u001b[38;5;28mself\u001b[39m\u001b[38;5;241m.\u001b[39m_handles\u001b[38;5;241m.\u001b[39mhandle, \u001b[38;5;241m*\u001b[39m\u001b[38;5;241m*\u001b[39mengine_kwargs)\n",
      "File \u001b[1;32mc:\\Users\\QuentinGEOFFROY\\anaconda3\\Lib\\site-packages\\pandas\\io\\excel\\_base.py:1246\u001b[0m, in \u001b[0;36mExcelWriter.__init__\u001b[1;34m(self, path, engine, date_format, datetime_format, mode, storage_options, if_sheet_exists, engine_kwargs)\u001b[0m\n\u001b[0;32m   1242\u001b[0m \u001b[38;5;28mself\u001b[39m\u001b[38;5;241m.\u001b[39m_handles \u001b[38;5;241m=\u001b[39m IOHandles(\n\u001b[0;32m   1243\u001b[0m     cast(IO[\u001b[38;5;28mbytes\u001b[39m], path), compression\u001b[38;5;241m=\u001b[39m{\u001b[38;5;124m\"\u001b[39m\u001b[38;5;124mcompression\u001b[39m\u001b[38;5;124m\"\u001b[39m: \u001b[38;5;28;01mNone\u001b[39;00m}\n\u001b[0;32m   1244\u001b[0m )\n\u001b[0;32m   1245\u001b[0m \u001b[38;5;28;01mif\u001b[39;00m \u001b[38;5;129;01mnot\u001b[39;00m \u001b[38;5;28misinstance\u001b[39m(path, ExcelWriter):\n\u001b[1;32m-> 1246\u001b[0m     \u001b[38;5;28mself\u001b[39m\u001b[38;5;241m.\u001b[39m_handles \u001b[38;5;241m=\u001b[39m get_handle(\n\u001b[0;32m   1247\u001b[0m         path, mode, storage_options\u001b[38;5;241m=\u001b[39mstorage_options, is_text\u001b[38;5;241m=\u001b[39m\u001b[38;5;28;01mFalse\u001b[39;00m\n\u001b[0;32m   1248\u001b[0m     )\n\u001b[0;32m   1249\u001b[0m \u001b[38;5;28mself\u001b[39m\u001b[38;5;241m.\u001b[39m_cur_sheet \u001b[38;5;241m=\u001b[39m \u001b[38;5;28;01mNone\u001b[39;00m\n\u001b[0;32m   1251\u001b[0m \u001b[38;5;28;01mif\u001b[39;00m date_format \u001b[38;5;129;01mis\u001b[39;00m \u001b[38;5;28;01mNone\u001b[39;00m:\n",
      "File \u001b[1;32mc:\\Users\\QuentinGEOFFROY\\anaconda3\\Lib\\site-packages\\pandas\\io\\common.py:882\u001b[0m, in \u001b[0;36mget_handle\u001b[1;34m(path_or_buf, mode, encoding, compression, memory_map, is_text, errors, storage_options)\u001b[0m\n\u001b[0;32m    873\u001b[0m         handle \u001b[38;5;241m=\u001b[39m \u001b[38;5;28mopen\u001b[39m(\n\u001b[0;32m    874\u001b[0m             handle,\n\u001b[0;32m    875\u001b[0m             ioargs\u001b[38;5;241m.\u001b[39mmode,\n\u001b[1;32m   (...)\u001b[0m\n\u001b[0;32m    878\u001b[0m             newline\u001b[38;5;241m=\u001b[39m\u001b[38;5;124m\"\u001b[39m\u001b[38;5;124m\"\u001b[39m,\n\u001b[0;32m    879\u001b[0m         )\n\u001b[0;32m    880\u001b[0m     \u001b[38;5;28;01melse\u001b[39;00m:\n\u001b[0;32m    881\u001b[0m         \u001b[38;5;66;03m# Binary mode\u001b[39;00m\n\u001b[1;32m--> 882\u001b[0m         handle \u001b[38;5;241m=\u001b[39m \u001b[38;5;28mopen\u001b[39m(handle, ioargs\u001b[38;5;241m.\u001b[39mmode)\n\u001b[0;32m    883\u001b[0m     handles\u001b[38;5;241m.\u001b[39mappend(handle)\n\u001b[0;32m    885\u001b[0m \u001b[38;5;66;03m# Convert BytesIO or file objects passed with an encoding\u001b[39;00m\n",
      "\u001b[1;31mPermissionError\u001b[0m: [Errno 13] Permission denied: 'long_first\\\\synthetic_dataset_11.xlsx'"
     ]
    }
   ],
   "source": [
    "os.makedirs(long_folder, exist_ok=True)\n",
    "\n",
    "NUM_SETS = 20\n",
    "\n",
    "for i in range(NUM_SETS):\n",
    "    params = {\n",
    "        'num_rows': random.randint(12, 50),\n",
    "        'add_empty_cells': random.choice([True, False]),\n",
    "        'empty_frac': round(random.uniform(0.05, 0.3), 2),\n",
    "        'change_types': random.choice([True, False]),\n",
    "        'wrong_type_cols': random.sample(['Value', 'Date'], \n",
    "                                         k=random.randint(0, 2))\n",
    "    }\n",
    "\n",
    "    df = generate_long_df(**params)\n",
    "    filepath = os.path.join(long_folder, f'synthetic_dataset_{i+1}.xlsx')\n",
    "    df.to_excel(filepath, index=False)\n",
    "\n",
    "    print(f\"Saved: {filepath}\")"
   ]
  },
  {
   "cell_type": "markdown",
   "id": "ff659c83",
   "metadata": {},
   "source": [
    "Wide Format function"
   ]
  },
  {
   "cell_type": "code",
   "execution_count": 11,
   "id": "9394228e",
   "metadata": {},
   "outputs": [],
   "source": [
    "def generate_wide_df(\n",
    "        num_columns=16,\n",
    "        add_empty_cells=True,\n",
    "        empty_frac=0.05,\n",
    "        change_types=True,\n",
    "        wrong_type_rows=['TV_Spend']\n",
    "):\n",
    "    num_dates = max(1, num_rows // 4)\n",
    "\n",
    "    base_date = pd.to_datetime('2025-07-10') + pd.Timedelta(days=np.random.randint(0,365))\n",
    "    dates = pd.date_range(base_date, periods=num_dates, freq='7D')\n",
    "\n",
    "    channels = ['TV', 'Spend']\n",
    "    metrics = ['Spend', 'GRPs']\n",
    "\n",
    "    data = []\n",
    "    for date in dates:\n",
    "        for channel in channels:\n",
    "            for metric in metrics:\n",
    "                value = np.random.randint(50, 201) if metric == 'Spend' else np.random.randint(1, 11)\n",
    "                data.append([date, channel, metric, value])\n",
    "\n",
    "    df_long = pd.DataFrame(data, columns=['Date', 'Channel', 'Metric', 'Value'])\n",
    "\n",
    "    df_wide = df_long.pivot(index='Date', columns=['Channel','Metric'], values='Value')\n",
    "\n",
    "    df_wide.columns -[f\"{chan}_{metric}\" for chan, metric in df_wide.columns]\n",
    "    df_wide.reset_index(inplace=True)\n",
    "\n",
    "\n",
    "    # Add empty cells\n",
    "    if add_empty_cells:\n",
    "        total_cells = df_wide.size\n",
    "        num_empty = int(total_cells * empty_frac)\n",
    "        for _ in range(num_empty):\n",
    "            row = np.random.randint(0, df_wide.shape[0])\n",
    "            col = np.random.choice(df_wide.columns)\n",
    "            df_wide.at[row, col] = np.nan\n",
    "\n",
    "    # Add wrong data types\n",
    "    for col in wrong_type_cols:\n",
    "        if col in df_wide.columns:\n",
    "            for row in np.random.choice(df_wide.index, size=max(1, len(df_wide)//8), replace=False):\n",
    "                if 'Spend' in col:\n",
    "                    df_wide.at[row, col] = random.choice(['one hundred', 'N/A'])\n",
    "                elif 'GRPs' in col:\n",
    "                    df_wide.at[row, col] = random.choice(['low', 'unknown'])\n",
    "                elif col == 'Date':\n",
    "                    df_wide.at[row, col] = random.choice(['next week', 'soon'])\n",
    "\n",
    "    return df_wide"
   ]
  },
  {
   "cell_type": "markdown",
   "id": "1b9fa3c5",
   "metadata": {},
   "source": [
    "Wide Output"
   ]
  },
  {
   "cell_type": "code",
   "execution_count": 12,
   "id": "94e4ebc7",
   "metadata": {},
   "outputs": [
    {
     "name": "stdout",
     "output_type": "stream",
     "text": [
      "Saved: wide\\synthetic_dataset_1.xlsx\n",
      "Saved: wide\\synthetic_dataset_2.xlsx\n",
      "Saved: wide\\synthetic_dataset_3.xlsx\n",
      "Saved: wide\\synthetic_dataset_4.xlsx\n",
      "Saved: wide\\synthetic_dataset_5.xlsx\n",
      "Saved: wide\\synthetic_dataset_6.xlsx\n",
      "Saved: wide\\synthetic_dataset_7.xlsx\n",
      "Saved: wide\\synthetic_dataset_8.xlsx\n"
     ]
    },
    {
     "name": "stderr",
     "output_type": "stream",
     "text": [
      "C:\\Users\\QuentinGEOFFROY\\AppData\\Local\\Temp\\ipykernel_1940\\3559396912.py:47: FutureWarning: Setting an item of incompatible dtype is deprecated and will raise an error in a future version of pandas. Value 'soon' has dtype incompatible with datetime64[ns], please explicitly cast to a compatible dtype first.\n",
      "  df.at[row, col] = random.choice(['not a date', 'yesterday', 'soon'])\n",
      "C:\\Users\\QuentinGEOFFROY\\AppData\\Local\\Temp\\ipykernel_1940\\3559396912.py:45: FutureWarning: Setting an item of incompatible dtype is deprecated and will raise an error in a future version of pandas. Value 'one hundred' has dtype incompatible with int64, please explicitly cast to a compatible dtype first.\n",
      "  df.at[row, col] = random.choice(['one hundred', 'ten', 'NaN'])\n",
      "C:\\Users\\QuentinGEOFFROY\\AppData\\Local\\Temp\\ipykernel_1940\\3559396912.py:47: FutureWarning: Setting an item of incompatible dtype is deprecated and will raise an error in a future version of pandas. Value 'yesterday' has dtype incompatible with datetime64[ns], please explicitly cast to a compatible dtype first.\n",
      "  df.at[row, col] = random.choice(['not a date', 'yesterday', 'soon'])\n",
      "C:\\Users\\QuentinGEOFFROY\\AppData\\Local\\Temp\\ipykernel_1940\\3559396912.py:45: FutureWarning: Setting an item of incompatible dtype is deprecated and will raise an error in a future version of pandas. Value 'ten' has dtype incompatible with int64, please explicitly cast to a compatible dtype first.\n",
      "  df.at[row, col] = random.choice(['one hundred', 'ten', 'NaN'])\n"
     ]
    },
    {
     "name": "stdout",
     "output_type": "stream",
     "text": [
      "Saved: wide\\synthetic_dataset_9.xlsx\n",
      "Saved: wide\\synthetic_dataset_10.xlsx\n",
      "Saved: wide\\synthetic_dataset_11.xlsx\n",
      "Saved: wide\\synthetic_dataset_12.xlsx\n",
      "Saved: wide\\synthetic_dataset_13.xlsx\n",
      "Saved: wide\\synthetic_dataset_14.xlsx\n",
      "Saved: wide\\synthetic_dataset_15.xlsx\n",
      "Saved: wide\\synthetic_dataset_16.xlsx\n"
     ]
    },
    {
     "name": "stderr",
     "output_type": "stream",
     "text": [
      "C:\\Users\\QuentinGEOFFROY\\AppData\\Local\\Temp\\ipykernel_1940\\3559396912.py:47: FutureWarning: Setting an item of incompatible dtype is deprecated and will raise an error in a future version of pandas. Value 'soon' has dtype incompatible with datetime64[ns], please explicitly cast to a compatible dtype first.\n",
      "  df.at[row, col] = random.choice(['not a date', 'yesterday', 'soon'])\n",
      "C:\\Users\\QuentinGEOFFROY\\AppData\\Local\\Temp\\ipykernel_1940\\3559396912.py:45: FutureWarning: Setting an item of incompatible dtype is deprecated and will raise an error in a future version of pandas. Value 'ten' has dtype incompatible with float64, please explicitly cast to a compatible dtype first.\n",
      "  df.at[row, col] = random.choice(['one hundred', 'ten', 'NaN'])\n",
      "C:\\Users\\QuentinGEOFFROY\\AppData\\Local\\Temp\\ipykernel_1940\\3559396912.py:47: FutureWarning: Setting an item of incompatible dtype is deprecated and will raise an error in a future version of pandas. Value 'soon' has dtype incompatible with datetime64[ns], please explicitly cast to a compatible dtype first.\n",
      "  df.at[row, col] = random.choice(['not a date', 'yesterday', 'soon'])\n",
      "C:\\Users\\QuentinGEOFFROY\\AppData\\Local\\Temp\\ipykernel_1940\\3559396912.py:45: FutureWarning: Setting an item of incompatible dtype is deprecated and will raise an error in a future version of pandas. Value 'one hundred' has dtype incompatible with int64, please explicitly cast to a compatible dtype first.\n",
      "  df.at[row, col] = random.choice(['one hundred', 'ten', 'NaN'])\n",
      "C:\\Users\\QuentinGEOFFROY\\AppData\\Local\\Temp\\ipykernel_1940\\3559396912.py:47: FutureWarning: Setting an item of incompatible dtype is deprecated and will raise an error in a future version of pandas. Value 'not a date' has dtype incompatible with datetime64[ns], please explicitly cast to a compatible dtype first.\n",
      "  df.at[row, col] = random.choice(['not a date', 'yesterday', 'soon'])\n"
     ]
    },
    {
     "name": "stdout",
     "output_type": "stream",
     "text": [
      "Saved: wide\\synthetic_dataset_17.xlsx\n",
      "Saved: wide\\synthetic_dataset_18.xlsx\n",
      "Saved: wide\\synthetic_dataset_19.xlsx\n",
      "Saved: wide\\synthetic_dataset_20.xlsx\n"
     ]
    },
    {
     "name": "stderr",
     "output_type": "stream",
     "text": [
      "C:\\Users\\QuentinGEOFFROY\\AppData\\Local\\Temp\\ipykernel_1940\\3559396912.py:47: FutureWarning: Setting an item of incompatible dtype is deprecated and will raise an error in a future version of pandas. Value 'yesterday' has dtype incompatible with datetime64[ns], please explicitly cast to a compatible dtype first.\n",
      "  df.at[row, col] = random.choice(['not a date', 'yesterday', 'soon'])\n",
      "C:\\Users\\QuentinGEOFFROY\\AppData\\Local\\Temp\\ipykernel_1940\\3559396912.py:45: FutureWarning: Setting an item of incompatible dtype is deprecated and will raise an error in a future version of pandas. Value 'NaN' has dtype incompatible with int64, please explicitly cast to a compatible dtype first.\n",
      "  df.at[row, col] = random.choice(['one hundred', 'ten', 'NaN'])\n"
     ]
    }
   ],
   "source": [
    "os.makedirs(wide_folder, exist_ok=True)\n",
    "\n",
    "NUM_SETS = 20\n",
    "\n",
    "for i in range(NUM_SETS):\n",
    "    params = {\n",
    "        'num_rows': random.randint(12, 50),\n",
    "        'add_empty_cells': random.choice([True, False]),\n",
    "        'empty_frac': round(random.uniform(0.05, 0.3), 2),\n",
    "        'change_types': random.choice([True, False]),\n",
    "        'wrong_type_cols': random.sample(['Value', 'Date'], \n",
    "                                         k=random.randint(0, 2))\n",
    "    }\n",
    "\n",
    "    df = generate_long_df(**params)\n",
    "    filepath = os.path.join(wide_folder, f'synthetic_dataset_{i+1}.xlsx')\n",
    "    df.to_excel(filepath, index=False)\n",
    "\n",
    "    print(f\"Saved: {filepath}\")"
   ]
  }
 ],
 "metadata": {
  "kernelspec": {
   "display_name": "base",
   "language": "python",
   "name": "python3"
  },
  "language_info": {
   "codemirror_mode": {
    "name": "ipython",
    "version": 3
   },
   "file_extension": ".py",
   "mimetype": "text/x-python",
   "name": "python",
   "nbconvert_exporter": "python",
   "pygments_lexer": "ipython3",
   "version": "3.13.5"
  }
 },
 "nbformat": 4,
 "nbformat_minor": 5
}
